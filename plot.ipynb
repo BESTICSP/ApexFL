{
 "cells": [
  {
   "metadata": {},
   "cell_type": "markdown",
   "source": "绘制案例",
   "id": "2a11ecfa8bb3b2cf"
  },
  {
   "metadata": {
    "collapsed": true
   },
   "cell_type": "code",
   "outputs": [],
   "execution_count": null,
   "source": [
    "import torchvision\n",
    "\n",
    "from lib.loading_data.load_data import LoadData\n",
    "from lib.result.plot import imshow\n",
    "\n",
    "poison_types = ['sig']\n",
    "data_names = [\"mnist\", \"cifar10\"]\n",
    "path = \"./examples/\"\n",
    "\n",
    "for data_name in data_names:\n",
    "    for poison_type in poison_types:\n",
    "        data = LoadData(data_name, poison_type)\n",
    "        _, test_loader, poison_test_loader = data.get_date(batch_size=1)\n",
    "        dataiter = iter(poison_test_loader)\n",
    "        images, _ = next(dataiter)\n",
    "\n",
    "        imshow(torchvision.utils.make_grid(images, nrow=2), path+f\"{data_name}-{poison_type}\")\n",
    "        \n",
    "        "
   ],
   "id": "initial_id"
  },
  {
   "metadata": {},
   "cell_type": "markdown",
   "source": "绘制结果",
   "id": "a22842c0eef54855"
  },
  {
   "metadata": {},
   "cell_type": "code",
   "outputs": [],
   "execution_count": null,
   "source": [
    "from lib.result.plot import get_filenames_in_directory, plot, load_csv\n",
    "\n",
    "if __name__ == '__main__':\n",
    "    directory = \"save/csv/\"\n",
    "    model_targets = ['resnet18']\n",
    "    attack_targets = ['trigger']\n",
    "    for model_target in model_targets:\n",
    "        for attack_target in attack_targets:\n",
    "            keywords = [model_target, \"cifar10\", attack_target, '50', \"0.1\", \"0.3\", \"0.15\", \"True\"]\n",
    "            #  [\"deepsight\", \"rflbat\", \"fltrust\", \"krum\", \"flame\"]\n",
    "            not_keywords = [\"0.2\", \"deepsight\", \"rflbat\", \"median\", \"krum\"]\n",
    "\n",
    "            filenames = get_filenames_in_directory(directory, keywords, not_keywords)\n",
    "            # filenames = get_filenames_in_directory(directory, keywords)\n",
    "\n",
    "            result_ma = {}\n",
    "            result_ba = {}\n",
    "            result_loss = {}\n",
    "            result_time = {}\n",
    "            epoch = 0\n",
    "\n",
    "            split_filename = filenames[0].split(\"-\")\n",
    "            model_name = model_target\n",
    "            data_name = split_filename[1]\n",
    "            img_path = f\"save/img/all/{model_name}-{data_name}-{attack_target}\"\n",
    "\n",
    "            for filename in filenames:\n",
    "                split_filename = filename.split(\"-\")\n",
    "                model_name = split_filename[0]\n",
    "                data_name = split_filename[1]\n",
    "                attack_name = split_filename[2]\n",
    "                defense_name = split_filename[3]\n",
    "                img_path += f\"-{defense_name}\"\n",
    "                data = load_csv(directory, filename)\n",
    "                num_data = len(data)\n",
    "                if num_data == 3:\n",
    "                    ma, ba, loss = data\n",
    "                elif num_data == 4:\n",
    "                    ma, ba, loss, time = data\n",
    "                    result_time[str(defense_name)] = time\n",
    "                elif num_data == 6:\n",
    "                    ma, ba, loss, time, _, _ = data\n",
    "                    result_time[str(defense_name)] = time\n",
    "                else:\n",
    "                    raise ValueError\n",
    "                epoch = [i * 5 for i in range(0, len(loss))]\n",
    "                result_ma[str(defense_name)] = ma\n",
    "                result_ba[str(defense_name)] = ba\n",
    "                result_loss[str(defense_name)] = loss\n",
    "\n",
    "            plot(epoch, result_ma, img_path + '-ma', title='Main Task Accuracy', y_label=\"ma\")\n",
    "            plot(epoch, result_ba, img_path + '-ba', title='Backdoor Task Accuracy', y_label=\"ba\")\n",
    "            plot(epoch, result_loss, img_path + '-loss', title='Loss Value', y_label=\"loss\")\n",
    "            if len(result_time) > 0:\n",
    "                plot(epoch, result_time, img_path + '-time', title='Time', y_label=\"time\")\n"
   ],
   "id": "5f927312f2916c24"
  }
 ],
 "metadata": {
  "kernelspec": {
   "display_name": "Python 3",
   "language": "python",
   "name": "python3"
  },
  "language_info": {
   "codemirror_mode": {
    "name": "ipython",
    "version": 2
   },
   "file_extension": ".py",
   "mimetype": "text/x-python",
   "name": "python",
   "nbconvert_exporter": "python",
   "pygments_lexer": "ipython2",
   "version": "2.7.6"
  }
 },
 "nbformat": 4,
 "nbformat_minor": 5
}
